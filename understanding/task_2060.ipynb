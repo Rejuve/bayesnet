{
 "cells": [
  {
   "cell_type": "code",
   "execution_count": 15,
   "id": "7e4ca7cb",
   "metadata": {
    "ExecuteTime": {
     "end_time": "2024-03-13T01:57:07.415754Z",
     "start_time": "2024-03-13T01:57:07.409754Z"
    }
   },
   "outputs": [],
   "source": [
    "import qpsolvers\n",
    "from os.path import exists\n",
    "import pickle\n",
    "\n",
    "import sn_bayes\n",
    "from sn_bayes import longevity_bayes\n",
    "from sn_bayes.utils import complexity_check\n",
    "from sn_bayes.utils import get_var_positions\n",
    "from sn_bayes.utils import get_var_val_positions\n",
    "from sn_bayes.utils import make_tree\n",
    "from sn_bayes.utils import bayesInitialize\n",
    "from sn_bayes.utils import query\n",
    "from sn_bayes.utils import internal_query\n",
    "from sn_bayes.utils import internal_query\n",
    "from sn_bayes.utils import explain_why_bad\n",
    "from sn_bayes.utils import explain_why_good\n",
    "from sn_bayes.utils import create_query\n",
    "from sn_bayes.utils import dependency\n",
    "from sn_bayes.utils import addCpt\n",
    "from sn_bayes.utils import non_cpt_descriptions\n",
    "from sn_service.service_spec.bayesian_pb2 import BayesianNetwork\n",
    "\n",
    "import sn_service.service_spec.bayesian_pb2\n",
    "from sn_service.service_spec.bayesian_pb2 import Query\n",
    "import sn_service.service_spec.bayesian_pb2_grpc as grpc_bayes_grpc\n",
    "import sn_service.service_spec.bayesian_pb2\n",
    "from sn_service.service_spec.bayesian_pb2 import BayesianNetworkQuery\n",
    "from sn_service.service_spec.bayesian_pb2 import QueryId\n",
    "from sn_service.service_spec.bayesian_pb2 import Id\n",
    "\n",
    "import grpc\n",
    "import pandas as pd\n",
    "import networkx as nx\n",
    "import time\n",
    "import re\n",
    "\n",
    "import matplotlib.pyplot as plt"
   ]
  },
  {
   "cell_type": "code",
   "execution_count": 21,
   "id": "bc69222c",
   "metadata": {
    "ExecuteTime": {
     "end_time": "2024-03-13T02:04:10.965065Z",
     "start_time": "2024-03-13T02:04:10.944065Z"
    }
   },
   "outputs": [
    {
     "name": "stdout",
     "output_type": "stream",
     "text": [
      "start timing...\n",
      "start timing...\n"
     ]
    },
    {
     "ename": "IndexError",
     "evalue": "list index out of range",
     "output_type": "error",
     "traceback": [
      "\u001b[1;31m---------------------------------------------------------------------------\u001b[0m",
      "\u001b[1;31mIndexError\u001b[0m                                Traceback (most recent call last)",
      "\u001b[1;32m~\\AppData\\Local\\Temp\\ipykernel_34236\\2260118955.py\u001b[0m in \u001b[0;36m<module>\u001b[1;34m\u001b[0m\n\u001b[0;32m      4\u001b[0m \u001b[0moutstr\u001b[0m \u001b[1;33m=\u001b[0m \u001b[0moutstr\u001b[0m \u001b[1;33m+\u001b[0m \u001b[0maddCpt\u001b[0m\u001b[1;33m(\u001b[0m\u001b[0mbayesianNetwork\u001b[0m\u001b[1;33m,\u001b[0m\u001b[0mcpt\u001b[0m\u001b[1;33m)\u001b[0m\u001b[1;33m\u001b[0m\u001b[1;33m\u001b[0m\u001b[0m\n\u001b[0;32m      5\u001b[0m \u001b[1;33m\u001b[0m\u001b[0m\n\u001b[1;32m----> 6\u001b[1;33m cpt[\"cardiovascular_disease\"] = dependency(bayesianNetwork,cpt, \n\u001b[0m\u001b[0;32m      7\u001b[0m     [\n\u001b[0;32m      8\u001b[0m     \u001b[1;33m(\u001b[0m\u001b[1;33m{\u001b[0m\u001b[1;34m\"age\"\u001b[0m\u001b[1;33m:\u001b[0m\u001b[1;33m[\u001b[0m\u001b[1;34m\"elderly\"\u001b[0m\u001b[1;33m]\u001b[0m\u001b[1;33m}\u001b[0m\u001b[1;33m,\u001b[0m\u001b[1;33m{\u001b[0m\u001b[1;34m\"relative_risk\"\u001b[0m\u001b[1;33m:\u001b[0m\u001b[1;36m7\u001b[0m\u001b[1;33m}\u001b[0m\u001b[1;33m)\u001b[0m\u001b[1;33m,\u001b[0m\u001b[1;33m\u001b[0m\u001b[1;33m\u001b[0m\u001b[0m\n",
      "\u001b[1;32m~\\OneDrive\\rejuve\\bayesnet\\sn_bayes\\utils.py\u001b[0m in \u001b[0;36mdependency\u001b[1;34m(bayesianNetwork, cpt, invars, outvars, calibrate, adjust)\u001b[0m\n\u001b[0;32m   1703\u001b[0m             \u001b[0mnewInvars\u001b[0m \u001b[1;33m=\u001b[0m \u001b[0minvars\u001b[0m\u001b[1;33m\u001b[0m\u001b[1;33m\u001b[0m\u001b[0m\n\u001b[0;32m   1704\u001b[0m \u001b[1;33m\u001b[0m\u001b[0m\n\u001b[1;32m-> 1705\u001b[1;33m         \u001b[0mcpt_rows\u001b[0m\u001b[1;33m,\u001b[0m\u001b[0mkeylist\u001b[0m\u001b[1;33m,\u001b[0m\u001b[0moutvars\u001b[0m\u001b[1;33m,\u001b[0m\u001b[0mdescription\u001b[0m\u001b[1;33m=\u001b[0m \u001b[0mdependency_direct\u001b[0m\u001b[1;33m(\u001b[0m\u001b[0mbayesianNetwork\u001b[0m\u001b[1;33m,\u001b[0m\u001b[0mcpt\u001b[0m\u001b[1;33m,\u001b[0m\u001b[0mnewInvars\u001b[0m\u001b[1;33m,\u001b[0m\u001b[0moutvars\u001b[0m\u001b[1;33m,\u001b[0m\u001b[0mpriors\u001b[0m\u001b[1;33m)\u001b[0m\u001b[1;33m\u001b[0m\u001b[1;33m\u001b[0m\u001b[0m\n\u001b[0m\u001b[0;32m   1706\u001b[0m \u001b[1;33m\u001b[0m\u001b[0m\n\u001b[0;32m   1707\u001b[0m         \u001b[0mtoc\u001b[0m \u001b[1;33m=\u001b[0m \u001b[0mtime\u001b[0m\u001b[1;33m.\u001b[0m\u001b[0mperf_counter\u001b[0m\u001b[1;33m(\u001b[0m\u001b[1;33m)\u001b[0m\u001b[1;33m\u001b[0m\u001b[1;33m\u001b[0m\u001b[0m\n",
      "\u001b[1;32m~\\OneDrive\\rejuve\\bayesnet\\sn_bayes\\utils.py\u001b[0m in \u001b[0;36mdependency_direct\u001b[1;34m(bayesianNetwork, cpt, invars, outvars, priors, adjust)\u001b[0m\n\u001b[0;32m   1794\u001b[0m         \u001b[0mcondition_val\u001b[0m \u001b[1;33m=\u001b[0m \u001b[0mlist\u001b[0m\u001b[1;33m(\u001b[0m\u001b[0moutvars\u001b[0m\u001b[1;33m.\u001b[0m\u001b[0mitems\u001b[0m\u001b[1;33m(\u001b[0m\u001b[1;33m)\u001b[0m\u001b[1;33m)\u001b[0m\u001b[1;33m[\u001b[0m\u001b[1;36m0\u001b[0m\u001b[1;33m]\u001b[0m\u001b[1;33m[\u001b[0m\u001b[1;36m0\u001b[0m\u001b[1;33m]\u001b[0m\u001b[1;33m\u001b[0m\u001b[1;33m\u001b[0m\u001b[0m\n\u001b[0;32m   1795\u001b[0m         \u001b[1;32mif\u001b[0m \u001b[0mpriors\u001b[0m \u001b[1;32mis\u001b[0m \u001b[1;32mNone\u001b[0m\u001b[1;33m:\u001b[0m\u001b[1;33m\u001b[0m\u001b[1;33m\u001b[0m\u001b[0m\n\u001b[1;32m-> 1796\u001b[1;33m             \u001b[0mpriors\u001b[0m \u001b[1;33m=\u001b[0m \u001b[0mget_priors\u001b[0m\u001b[1;33m(\u001b[0m\u001b[0mbayesianNetwork\u001b[0m\u001b[1;33m,\u001b[0m\u001b[0minvars\u001b[0m\u001b[1;33m,\u001b[0m\u001b[0mprevalence_condition_regardless\u001b[0m\u001b[1;33m,\u001b[0m\u001b[0mcpt\u001b[0m\u001b[1;33m,\u001b[0m\u001b[0madjust\u001b[0m\u001b[1;33m)\u001b[0m\u001b[1;33m\u001b[0m\u001b[1;33m\u001b[0m\u001b[0m\n\u001b[0m\u001b[0;32m   1797\u001b[0m         \u001b[1;31m#print(\"priors\")\u001b[0m\u001b[1;33m\u001b[0m\u001b[1;33m\u001b[0m\u001b[0m\n\u001b[0;32m   1798\u001b[0m         \u001b[1;31m#print(priors)\u001b[0m\u001b[1;33m\u001b[0m\u001b[1;33m\u001b[0m\u001b[0m\n",
      "\u001b[1;32m~\\OneDrive\\rejuve\\bayesnet\\sn_bayes\\utils.py\u001b[0m in \u001b[0;36mget_priors\u001b[1;34m(bayesianNetwork, invars, prevalence, cpt, adjust)\u001b[0m\n\u001b[0;32m   1193\u001b[0m                         \u001b[0mvar_vals\u001b[0m\u001b[1;33m[\u001b[0m\u001b[0mval\u001b[0m\u001b[1;33m]\u001b[0m\u001b[1;33m=\u001b[0m \u001b[0mprob\u001b[0m\u001b[1;33m\u001b[0m\u001b[1;33m\u001b[0m\u001b[0m\n\u001b[0;32m   1194\u001b[0m                 \u001b[0mpriors\u001b[0m\u001b[1;33m[\u001b[0m\u001b[0mk\u001b[0m\u001b[1;33m]\u001b[0m\u001b[1;33m=\u001b[0m\u001b[0mvar_vals\u001b[0m\u001b[1;33m\u001b[0m\u001b[1;33m\u001b[0m\u001b[0m\n\u001b[1;32m-> 1195\u001b[1;33m         \u001b[0mprobs\u001b[0m \u001b[1;33m=\u001b[0m \u001b[0mpredict_proba_adjusted\u001b[0m\u001b[1;33m(\u001b[0m\u001b[0mpomegranate\u001b[0m\u001b[1;33m,\u001b[0m\u001b[0mbayesianNetwork\u001b[0m\u001b[1;33m,\u001b[0m\u001b[0mevidence\u001b[0m\u001b[1;33m,\u001b[0m\u001b[0madjust\u001b[0m\u001b[1;33m)\u001b[0m\u001b[1;31m#pomegranate.predict_proba(evidence)\u001b[0m\u001b[1;33m\u001b[0m\u001b[1;33m\u001b[0m\u001b[0m\n\u001b[0m\u001b[0;32m   1196\u001b[0m         \u001b[1;31m#print(\"probs\")\u001b[0m\u001b[1;33m\u001b[0m\u001b[1;33m\u001b[0m\u001b[0m\n\u001b[0;32m   1197\u001b[0m         \u001b[1;31m#print (probs)\u001b[0m\u001b[1;33m\u001b[0m\u001b[1;33m\u001b[0m\u001b[0m\n",
      "\u001b[1;32m~\\OneDrive\\rejuve\\bayesnet\\sn_bayes\\utils.py\u001b[0m in \u001b[0;36mpredict_proba_adjusted\u001b[1;34m(baked_net, netspec, evidence_list, adjust)\u001b[0m\n\u001b[0;32m    586\u001b[0m     \u001b[0mvar_positions\u001b[0m \u001b[1;33m=\u001b[0m \u001b[0mget_var_positions\u001b[0m\u001b[1;33m(\u001b[0m\u001b[0mnetspec\u001b[0m\u001b[1;33m)\u001b[0m\u001b[1;33m\u001b[0m\u001b[1;33m\u001b[0m\u001b[0m\n\u001b[0;32m    587\u001b[0m     \u001b[0mtemplate_priors\u001b[0m \u001b[1;33m=\u001b[0m \u001b[0mget_template_priors\u001b[0m\u001b[1;33m(\u001b[0m\u001b[0mnetspec\u001b[0m\u001b[1;33m)\u001b[0m\u001b[1;33m\u001b[0m\u001b[1;33m\u001b[0m\u001b[0m\n\u001b[1;32m--> 588\u001b[1;33m     \u001b[0mprior_var\u001b[0m \u001b[1;33m=\u001b[0m \u001b[0mlist\u001b[0m\u001b[1;33m(\u001b[0m\u001b[0mtemplate_priors\u001b[0m\u001b[1;33m.\u001b[0m\u001b[0mkeys\u001b[0m\u001b[1;33m(\u001b[0m\u001b[1;33m)\u001b[0m\u001b[1;33m)\u001b[0m\u001b[1;33m[\u001b[0m\u001b[1;36m0\u001b[0m\u001b[1;33m]\u001b[0m\u001b[1;33m\u001b[0m\u001b[1;33m\u001b[0m\u001b[0m\n\u001b[0m\u001b[0;32m    589\u001b[0m     \u001b[1;31m#print (\"template_priors\")\u001b[0m\u001b[1;33m\u001b[0m\u001b[1;33m\u001b[0m\u001b[0m\n\u001b[0;32m    590\u001b[0m     \u001b[1;31m#print (template_priors)\u001b[0m\u001b[1;33m\u001b[0m\u001b[1;33m\u001b[0m\u001b[0m\n",
      "\u001b[1;31mIndexError\u001b[0m: list index out of range"
     ]
    }
   ],
   "source": [
    "bayesianNetwork = BayesianNetwork()\n",
    "cpt = {}\n",
    "outstr = ''\n",
    "outstr = outstr + addCpt(bayesianNetwork,cpt) \n",
    "\n",
    "cpt[\"cardiovascular_disease\"] = dependency(bayesianNetwork,cpt, \n",
    "    [\n",
    "    ({\"age\":[\"elderly\"]},{\"relative_risk\":7}),\n",
    "    ({\"diabetes\":[\"diabetes\"]},{\"relative_risk\":3}),\n",
    "    ({\"obesity\":[\"obesity\"]},{\"relative_risk\":2}),\n",
    "    ({\"heart_disorder_indicators\":[\"heart_disorder_indicators\"]},{\"sensitivity\":0.4, \"specificity\":0.3}),\n",
    "    ({\"hypertension\":[\"hypertension\"]},{\"relative_risk\":3.15})\n",
    "            \n",
    "    ],\n",
    "    {\"cardiovascular_disease\":0.09,\"no_cardiovascular_disease\":0.91}\n",
    "    )"
   ]
  },
  {
   "cell_type": "code",
   "execution_count": 23,
   "id": "809cd6a7",
   "metadata": {
    "ExecuteTime": {
     "end_time": "2024-03-13T02:09:02.262361Z",
     "start_time": "2024-03-13T02:09:02.243245Z"
    }
   },
   "outputs": [],
   "source": [
    "discreteDistribution = bayesianNetwork.discreteDistributions.add()\n",
    "discreteDistribution.name = \"cough\"\n",
    "variable = discreteDistribution.variables.add()\n",
    "variable.name = \"cough_up_blood\"\n",
    "variable.probability = 0.01\n",
    "variable = discreteDistribution.variables.add()\n",
    "variable.name = \"cough_with_green_phlegm\"\n",
    "variable.probability = 0.04\n",
    "variable = discreteDistribution.variables.add()\n",
    "variable.name = \"cough_with_clear_spitum\"\n",
    "variable.probability = 0.05\n",
    "variable = discreteDistribution.variables.add()\n",
    "variable.name = \"no_cough\"\n",
    "variable.probability = 0.90"
   ]
  },
  {
   "cell_type": "code",
   "execution_count": 24,
   "id": "03b3c7c2",
   "metadata": {
    "ExecuteTime": {
     "end_time": "2024-03-13T02:09:14.130106Z",
     "start_time": "2024-03-13T02:09:14.116639Z"
    }
   },
   "outputs": [
    {
     "name": "stdout",
     "output_type": "stream",
     "text": [
      "start timing...\n",
      "start timing...\n"
     ]
    },
    {
     "ename": "KeyError",
     "evalue": "'age'",
     "output_type": "error",
     "traceback": [
      "\u001b[1;31m---------------------------------------------------------------------------\u001b[0m",
      "\u001b[1;31mKeyError\u001b[0m                                  Traceback (most recent call last)",
      "\u001b[1;32m~\\AppData\\Local\\Temp\\ipykernel_34236\\349772855.py\u001b[0m in \u001b[0;36m<module>\u001b[1;34m\u001b[0m\n\u001b[1;32m----> 1\u001b[1;33m cpt[\"cardiovascular_disease\"] = dependency(bayesianNetwork,cpt, \n\u001b[0m\u001b[0;32m      2\u001b[0m     [\n\u001b[0;32m      3\u001b[0m     \u001b[1;33m(\u001b[0m\u001b[1;33m{\u001b[0m\u001b[1;34m\"age\"\u001b[0m\u001b[1;33m:\u001b[0m\u001b[1;33m[\u001b[0m\u001b[1;34m\"elderly\"\u001b[0m\u001b[1;33m]\u001b[0m\u001b[1;33m}\u001b[0m\u001b[1;33m,\u001b[0m\u001b[1;33m{\u001b[0m\u001b[1;34m\"relative_risk\"\u001b[0m\u001b[1;33m:\u001b[0m\u001b[1;36m7\u001b[0m\u001b[1;33m}\u001b[0m\u001b[1;33m)\u001b[0m\u001b[1;33m,\u001b[0m\u001b[1;33m\u001b[0m\u001b[1;33m\u001b[0m\u001b[0m\n\u001b[0;32m      4\u001b[0m     \u001b[1;33m(\u001b[0m\u001b[1;33m{\u001b[0m\u001b[1;34m\"diabetes\"\u001b[0m\u001b[1;33m:\u001b[0m\u001b[1;33m[\u001b[0m\u001b[1;34m\"diabetes\"\u001b[0m\u001b[1;33m]\u001b[0m\u001b[1;33m}\u001b[0m\u001b[1;33m,\u001b[0m\u001b[1;33m{\u001b[0m\u001b[1;34m\"relative_risk\"\u001b[0m\u001b[1;33m:\u001b[0m\u001b[1;36m3\u001b[0m\u001b[1;33m}\u001b[0m\u001b[1;33m)\u001b[0m\u001b[1;33m,\u001b[0m\u001b[1;33m\u001b[0m\u001b[1;33m\u001b[0m\u001b[0m\n\u001b[0;32m      5\u001b[0m     \u001b[1;33m(\u001b[0m\u001b[1;33m{\u001b[0m\u001b[1;34m\"obesity\"\u001b[0m\u001b[1;33m:\u001b[0m\u001b[1;33m[\u001b[0m\u001b[1;34m\"obesity\"\u001b[0m\u001b[1;33m]\u001b[0m\u001b[1;33m}\u001b[0m\u001b[1;33m,\u001b[0m\u001b[1;33m{\u001b[0m\u001b[1;34m\"relative_risk\"\u001b[0m\u001b[1;33m:\u001b[0m\u001b[1;36m2\u001b[0m\u001b[1;33m}\u001b[0m\u001b[1;33m)\u001b[0m\u001b[1;33m,\u001b[0m\u001b[1;33m\u001b[0m\u001b[1;33m\u001b[0m\u001b[0m\n",
      "\u001b[1;32m~\\OneDrive\\rejuve\\bayesnet\\sn_bayes\\utils.py\u001b[0m in \u001b[0;36mdependency\u001b[1;34m(bayesianNetwork, cpt, invars, outvars, calibrate, adjust)\u001b[0m\n\u001b[0;32m   1703\u001b[0m             \u001b[0mnewInvars\u001b[0m \u001b[1;33m=\u001b[0m \u001b[0minvars\u001b[0m\u001b[1;33m\u001b[0m\u001b[1;33m\u001b[0m\u001b[0m\n\u001b[0;32m   1704\u001b[0m \u001b[1;33m\u001b[0m\u001b[0m\n\u001b[1;32m-> 1705\u001b[1;33m         \u001b[0mcpt_rows\u001b[0m\u001b[1;33m,\u001b[0m\u001b[0mkeylist\u001b[0m\u001b[1;33m,\u001b[0m\u001b[0moutvars\u001b[0m\u001b[1;33m,\u001b[0m\u001b[0mdescription\u001b[0m\u001b[1;33m=\u001b[0m \u001b[0mdependency_direct\u001b[0m\u001b[1;33m(\u001b[0m\u001b[0mbayesianNetwork\u001b[0m\u001b[1;33m,\u001b[0m\u001b[0mcpt\u001b[0m\u001b[1;33m,\u001b[0m\u001b[0mnewInvars\u001b[0m\u001b[1;33m,\u001b[0m\u001b[0moutvars\u001b[0m\u001b[1;33m,\u001b[0m\u001b[0mpriors\u001b[0m\u001b[1;33m)\u001b[0m\u001b[1;33m\u001b[0m\u001b[1;33m\u001b[0m\u001b[0m\n\u001b[0m\u001b[0;32m   1706\u001b[0m \u001b[1;33m\u001b[0m\u001b[0m\n\u001b[0;32m   1707\u001b[0m         \u001b[0mtoc\u001b[0m \u001b[1;33m=\u001b[0m \u001b[0mtime\u001b[0m\u001b[1;33m.\u001b[0m\u001b[0mperf_counter\u001b[0m\u001b[1;33m(\u001b[0m\u001b[1;33m)\u001b[0m\u001b[1;33m\u001b[0m\u001b[1;33m\u001b[0m\u001b[0m\n",
      "\u001b[1;32m~\\OneDrive\\rejuve\\bayesnet\\sn_bayes\\utils.py\u001b[0m in \u001b[0;36mdependency_direct\u001b[1;34m(bayesianNetwork, cpt, invars, outvars, priors, adjust)\u001b[0m\n\u001b[0;32m   1794\u001b[0m         \u001b[0mcondition_val\u001b[0m \u001b[1;33m=\u001b[0m \u001b[0mlist\u001b[0m\u001b[1;33m(\u001b[0m\u001b[0moutvars\u001b[0m\u001b[1;33m.\u001b[0m\u001b[0mitems\u001b[0m\u001b[1;33m(\u001b[0m\u001b[1;33m)\u001b[0m\u001b[1;33m)\u001b[0m\u001b[1;33m[\u001b[0m\u001b[1;36m0\u001b[0m\u001b[1;33m]\u001b[0m\u001b[1;33m[\u001b[0m\u001b[1;36m0\u001b[0m\u001b[1;33m]\u001b[0m\u001b[1;33m\u001b[0m\u001b[1;33m\u001b[0m\u001b[0m\n\u001b[0;32m   1795\u001b[0m         \u001b[1;32mif\u001b[0m \u001b[0mpriors\u001b[0m \u001b[1;32mis\u001b[0m \u001b[1;32mNone\u001b[0m\u001b[1;33m:\u001b[0m\u001b[1;33m\u001b[0m\u001b[1;33m\u001b[0m\u001b[0m\n\u001b[1;32m-> 1796\u001b[1;33m             \u001b[0mpriors\u001b[0m \u001b[1;33m=\u001b[0m \u001b[0mget_priors\u001b[0m\u001b[1;33m(\u001b[0m\u001b[0mbayesianNetwork\u001b[0m\u001b[1;33m,\u001b[0m\u001b[0minvars\u001b[0m\u001b[1;33m,\u001b[0m\u001b[0mprevalence_condition_regardless\u001b[0m\u001b[1;33m,\u001b[0m\u001b[0mcpt\u001b[0m\u001b[1;33m,\u001b[0m\u001b[0madjust\u001b[0m\u001b[1;33m)\u001b[0m\u001b[1;33m\u001b[0m\u001b[1;33m\u001b[0m\u001b[0m\n\u001b[0m\u001b[0;32m   1797\u001b[0m         \u001b[1;31m#print(\"priors\")\u001b[0m\u001b[1;33m\u001b[0m\u001b[1;33m\u001b[0m\u001b[0m\n\u001b[0;32m   1798\u001b[0m         \u001b[1;31m#print(priors)\u001b[0m\u001b[1;33m\u001b[0m\u001b[1;33m\u001b[0m\u001b[0m\n",
      "\u001b[1;32m~\\OneDrive\\rejuve\\bayesnet\\sn_bayes\\utils.py\u001b[0m in \u001b[0;36mget_priors\u001b[1;34m(bayesianNetwork, invars, prevalence, cpt, adjust)\u001b[0m\n\u001b[0;32m   1204\u001b[0m                         \u001b[1;32mif\u001b[0m \u001b[0mk\u001b[0m \u001b[1;32mnot\u001b[0m \u001b[1;32min\u001b[0m \u001b[0mpriors\u001b[0m\u001b[1;33m:\u001b[0m\u001b[1;33m\u001b[0m\u001b[1;33m\u001b[0m\u001b[0m\n\u001b[0;32m   1205\u001b[0m                             \u001b[0mpriors\u001b[0m\u001b[1;33m[\u001b[0m\u001b[0mk\u001b[0m\u001b[1;33m]\u001b[0m \u001b[1;33m=\u001b[0m \u001b[1;33m{\u001b[0m\u001b[1;33m}\u001b[0m\u001b[1;33m\u001b[0m\u001b[1;33m\u001b[0m\u001b[0m\n\u001b[1;32m-> 1206\u001b[1;33m                         \u001b[1;32mfor\u001b[0m \u001b[0mv\u001b[0m \u001b[1;32min\u001b[0m \u001b[0mvdict\u001b[0m\u001b[1;33m[\u001b[0m\u001b[0mk\u001b[0m\u001b[1;33m]\u001b[0m\u001b[1;33m:\u001b[0m\u001b[1;33m\u001b[0m\u001b[1;33m\u001b[0m\u001b[0m\n\u001b[0m\u001b[0;32m   1207\u001b[0m                                 \u001b[1;32mtry\u001b[0m\u001b[1;33m:\u001b[0m\u001b[1;33m\u001b[0m\u001b[1;33m\u001b[0m\u001b[0m\n\u001b[0;32m   1208\u001b[0m                                         \u001b[1;31m#problem=\"hypertension\"\u001b[0m\u001b[1;33m\u001b[0m\u001b[1;33m\u001b[0m\u001b[0m\n",
      "\u001b[1;31mKeyError\u001b[0m: 'age'"
     ]
    }
   ],
   "source": [
    "cpt[\"cardiovascular_disease\"] = dependency(bayesianNetwork,cpt, \n",
    "    [\n",
    "    ({\"age\":[\"elderly\"]},{\"relative_risk\":7}),\n",
    "    ({\"diabetes\":[\"diabetes\"]},{\"relative_risk\":3}),\n",
    "    ({\"obesity\":[\"obesity\"]},{\"relative_risk\":2}),\n",
    "    ({\"heart_disorder_indicators\":[\"heart_disorder_indicators\"]},{\"sensitivity\":0.4, \"specificity\":0.3}),\n",
    "    ({\"hypertension\":[\"hypertension\"]},{\"relative_risk\":3.15})\n",
    "            \n",
    "    ],\n",
    "    {\"cardiovascular_disease\":0.09,\"no_cardiovascular_disease\":0.91}\n",
    "    )"
   ]
  }
 ],
 "metadata": {
  "hide_input": false,
  "kernelspec": {
   "display_name": "Python 3 (ipykernel)",
   "language": "python",
   "name": "python3"
  },
  "language_info": {
   "codemirror_mode": {
    "name": "ipython",
    "version": 3
   },
   "file_extension": ".py",
   "mimetype": "text/x-python",
   "name": "python",
   "nbconvert_exporter": "python",
   "pygments_lexer": "ipython3",
   "version": "3.9.13"
  },
  "toc": {
   "base_numbering": 1,
   "nav_menu": {},
   "number_sections": true,
   "sideBar": true,
   "skip_h1_title": false,
   "title_cell": "Table of Contents",
   "title_sidebar": "Contents",
   "toc_cell": false,
   "toc_position": {},
   "toc_section_display": true,
   "toc_window_display": false
  }
 },
 "nbformat": 4,
 "nbformat_minor": 5
}
