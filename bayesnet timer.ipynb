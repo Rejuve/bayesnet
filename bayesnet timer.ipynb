{
 "cells": [
  {
   "cell_type": "markdown",
   "metadata": {},
   "source": [
    "From multiprocessing import Pool\n",
    "\n",
    "import grpc\n",
    "from google.protobuf.json_format import Parse\n",
    "\n",
    "from insight.proto import bayesian_pb2, bayesian_pb2_grpc\n",
    "\n",
    "query = None\n",
    "with open('query.json', 'r') as f:\n",
    "    query = f.read()\n",
    "    f.close()\n",
    "\n",
    "message = Parse(query, bayesian_pb2.QueryId(), ignore_unknown_fields=False)\n",
    "\n",
    "channel = grpc.insecure_channel('localhost:7001')\n",
    "stub = bayesian_pb2_grpc.BayesNetStub(channel)\n",
    "\n",
    "\n",
    "# response = stub.AskNet(message)\n",
    "def ask_net():\n",
    "    print('calling')\n",
    "    stub.AskNet(message)\n",
    "\n",
    "\n",
    "if __name__ == '__main__':\n",
    "    pool = Pool()\n",
    "    result1 = pool.apply_async(ask_net)  # evaluate \"solve1(A)\" asynchronously\n",
    "    result2 = pool.apply_async(ask_net)  # evaluate \"solve2(B)\" asynchronously\n",
    "    answer1 = result1.get(timeout=100)\n",
    "    answer2 = result2.get(timeout=100)\n",
    "    print('completed')"
   ]
  },
  {
   "cell_type": "code",
   "execution_count": 1,
   "metadata": {},
   "outputs": [],
   "source": [
    "import pickle\n",
    "from os.path import exists\n",
    "import sn_bayes\n",
    "from sn_bayes import longevity_bayes"
   ]
  },
  {
   "cell_type": "code",
   "execution_count": 2,
   "metadata": {},
   "outputs": [],
   "source": [
    "if exists(\"bayesianNetwork.pkl\"):\n",
    "        infile = open(\"bayesianNetwork.pkl\",'rb')\n",
    "        bayesianNetwork = pickle.load(infile)\n",
    "        infile.close()\n"
   ]
  },
  {
   "cell_type": "code",
   "execution_count": 3,
   "metadata": {},
   "outputs": [],
   "source": [
    "import sn_bayes\n",
    "\n",
    "\n",
    "import sn_service.service_spec.bayesian_pb2\n",
    "from sn_service.service_spec.bayesian_pb2 import BayesianNetwork\n",
    "from sn_bayes.utils import get_var_val_positions\n",
    "from sn_bayes.utils import get_var_positions\n",
    "import sn_service.service_spec.bayesian_pb2\n",
    "from sn_service.service_spec.bayesian_pb2 import Query\n",
    "var_positions = get_var_positions(bayesianNetwork)\n",
    "var_val_positions = get_var_val_positions(bayesianNetwork)\n",
    "evidence = {}\n",
    "\n",
    "outvars = [\"hallmark_1_genomic_instability\",\"hallmark_2_telomere_attrition\",\"hallmark_3_epigenetic_alterations\",\"hallmark_4_loss_of_proteostasis\",\n",
    "        \"hallmark_5_deregulated_nutrient_sensing\",\"hallmark_6_mitochondrial_dysfunction\",\"hallmark_7_cellular_senescence\",\"hallmark_8_stem_cell_exhaustion\",\n",
    "        \"hallmark_9_altered_intercellular_communication\",\"hallmark_10_extracellular_matrix_dysfunction\",\"poor_diet\",\n",
    "        \"poor_diet_flag\",\"poor_sleep\",\"psychological_disorders\",\"obesity\",\"lack_of_exercise\",\"poor_diet_quantity\",\"smoking\"]\n",
    "explainvars=outvars\n",
    "\n",
    "include_list =[\"lack_of_exercise_signal\",\"resting_heart_rate\",\"signal_heart_disorders_indicators\",\"steps_anomaly\",\"workout_anomaly\",\"heart_rate_anomaly\",\"step_asymmetry_anomaly\",\"step_variability_anomaly\",\n",
    " \"stride_variability_anomaly\",\"heart_rate_variability_anomaly\",\"walking_speed_variability_anomaly\"]\n",
    "\n",
    "\n",
    "query = Query()\n",
    "query.switch = \"internal_query\"\n",
    "\n",
    "for v in include_list:\n",
    "    if v in var_positions:\n",
    "        outvar = query.include_list.add()\n",
    "        outvar.var_num = var_positions[v]\n",
    "for var,val  in  evidence.items():\n",
    "    e= query.evidence.add()\n",
    "    e.var_num = var_positions[var] if var in var_positions else 0\n",
    "    e.response = var_val_positions[var][val] if var in var_positions and val in var_val_positions[var] else 0\n",
    "for o in outvars:\n",
    "    outvar = query.outvars.add()\n",
    "    outvar.var_num = var_positions[o] if o in var_positions else 0\n"
   ]
  },
  {
   "cell_type": "code",
   "execution_count": 4,
   "metadata": {},
   "outputs": [
    {
     "name": "stdout",
     "output_type": "stream",
     "text": [
      "Calling StartNet\n",
      "CPU times: user 697 ms, sys: 685 ms, total: 1.38 s\n",
      "Wall time: 2min 13s\n",
      "response.id\n",
      "1fb62be9-3c8c-4c08-9981-148e92f5c81d\n",
      "response.error_msg\n",
      "\n"
     ]
    }
   ],
   "source": [
    "from sn_bayes.utils import create_query\n",
    "import grpc\n",
    "import sn_service.service_spec.bayesian_pb2_grpc as grpc_bayes_grpc\n",
    "import sn_service.service_spec.bayesian_pb2\n",
    "from sn_service.service_spec.bayesian_pb2 import BayesianNetworkQuery\n",
    "from sn_service.service_spec.bayesian_pb2 import QueryId\n",
    "from sn_service.service_spec.bayesian_pb2 import Id\n",
    "\n",
    "endpoint = \"localhost:7003\"\n",
    "channel = grpc.insecure_channel(\"{}\".format(endpoint))\n",
    "stub = grpc_bayes_grpc.BayesNetStub(channel)\n",
    "\n",
    "print (\"Calling StartNet\")\n",
    "%time response = stub.StartNet(bayesianNetwork)\n",
    "print(\"response.id\")\n",
    "print(response.id)\n",
    "print(\"response.error_msg\")\n",
    "print(response.error_msg)"
   ]
  },
  {
   "cell_type": "code",
   "execution_count": 7,
   "metadata": {},
   "outputs": [
    {
     "name": "stdout",
     "output_type": "stream",
     "text": [
      "Requirement already satisfied: pip in /usr/local/lib/python3.6/dist-packages (21.3.1)\n",
      "\u001b[33mWARNING: Running pip as the 'root' user can result in broken permissions and conflicting behaviour with the system package manager. It is recommended to use a virtual environment instead: https://pip.pypa.io/warnings/venv\u001b[0m\n",
      "Requirement already satisfied: nbmultitask in /usr/local/lib/python3.6/dist-packages (0.1.0)\n",
      "\u001b[33mWARNING: Running pip as the 'root' user can result in broken permissions and conflicting behaviour with the system package manager. It is recommended to use a virtual environment instead: https://pip.pypa.io/warnings/venv\u001b[0m\n"
     ]
    }
   ],
   "source": [
    "import sys\n",
    "!{sys.executable} -m pip install --upgrade pip\n",
    "!{sys.executable} -m pip install nbmultitask\n",
    "from nbmultitask import ThreadWithLogAndControls\n",
    "\n"
   ]
  },
  {
   "cell_type": "code",
   "execution_count": 9,
   "metadata": {},
   "outputs": [
    {
     "name": "stdout",
     "output_type": "stream",
     "text": [
      "query id is prepared\n"
     ]
    }
   ],
   "source": [
    "\n",
    "queryId = QueryId()\n",
    "queryId.id = response.id\n",
    "queryId.query.CopyFrom(query)\n",
    "print(\"query id is prepared\")\n",
    "\n",
    "def fn(thread_print):\n",
    "    %time response =stub.AskNet(queryId)\n",
    "\n",
    "task = ThreadWithLogAndControls(target=fn, name=\"do some stuff\")\n",
    "task1 = ThreadWithLogAndControls(target=fn, name=\"do some stuff\")\n",
    "task2 = ThreadWithLogAndControls(target=fn, name=\"do some stuff\")\n",
    "\n",
    "# multiple tasks \n",
    "task.start()\n",
    "task1.start()\n",
    "task2.start()"
   ]
  },
  {
   "cell_type": "code",
   "execution_count": null,
   "metadata": {},
   "outputs": [],
   "source": []
  }
 ],
 "metadata": {
  "kernelspec": {
   "display_name": "Python 3",
   "language": "python",
   "name": "python3"
  },
  "language_info": {
   "codemirror_mode": {
    "name": "ipython",
    "version": 3
   },
   "file_extension": ".py",
   "mimetype": "text/x-python",
   "name": "python",
   "nbconvert_exporter": "python",
   "pygments_lexer": "ipython3",
   "version": "3.6.8"
  }
 },
 "nbformat": 4,
 "nbformat_minor": 4
}
